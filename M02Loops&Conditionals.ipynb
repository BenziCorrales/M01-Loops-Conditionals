{
 "cells": [
  {
   "cell_type": "code",
   "execution_count": null,
   "id": "7bdfe644-4288-40d0-9f47-ca4edacbaa0c",
   "metadata": {},
   "outputs": [],
   "source": [
    "\"\"\" 4.1 Choose a number between 1 and 10 and assign it to the variable secret. \n",
    "Then, select another number between 1 and 10 and assign it to the variable guess. \n",
    "Next, write the conditional tests (if, else, and elif) to print the string \n",
    "'too low' if guess is less than secret, \n",
    "'too high' if greater than secret, \n",
    "and 'just right' if equal to secret. \"\"\""
   ]
  },
  {
   "cell_type": "code",
   "execution_count": 1,
   "id": "fc7e1772-b63a-4b0c-a094-f8501dbfd450",
   "metadata": {},
   "outputs": [
    {
     "name": "stdout",
     "output_type": "stream",
     "text": [
      "Too Low\n"
     ]
    }
   ],
   "source": [
    "secret = 8\n",
    "guess = 6\n",
    "\n",
    "if guess < secret:\n",
    "    print(\"Too Low\")\n",
    "elif guess > secret:\n",
    "    print(\"Too high\")\n",
    "else:\n",
    "    print(\"Just Right\")"
   ]
  },
  {
   "cell_type": "code",
   "execution_count": null,
   "id": "f1ee2f06-f214-445b-9379-879c2501726f",
   "metadata": {},
   "outputs": [],
   "source": [
    "\"\"\" 4.2 Assign True or False to the variables small and green.\n",
    "Write some if/else statements to print which of these matches those choices: cherry, pea, watermelon, pumpkin. \"\"\""
   ]
  },
  {
   "cell_type": "code",
   "execution_count": null,
   "id": "c55dbcc0-7aba-4e1d-a710-cdbc00bb7aa0",
   "metadata": {},
   "outputs": [],
   "source": [
    "small = input(\"Input if it is small:  1 = Yes   0 = No \")\n",
    "green = input(\"Input if it is green:  1 = Yes   0 = No \")\n",
    "\n",
    "if small == \"1\":\n",
    "    small = True\n",
    "else:\n",
    "    small = False\n",
    "\n",
    "if green == \"1\":\n",
    "    green = True\n",
    "else:\n",
    "    green = False\n",
    "\n",
    "if small and green:\n",
    "    print(\"It is a pea\")\n",
    "elif small and not green:\n",
    "    print(\"It is a cherry\")\n",
    "elif not small and not green:\n",
    "    print(\"It is a pumpkin\")\n",
    "else:\n",
    "    print(\"It is a watermelon\")"
   ]
  },
  {
   "cell_type": "code",
   "execution_count": null,
   "id": "b644312b-a583-4de3-9e62-1f912dfe1327",
   "metadata": {},
   "outputs": [],
   "source": [
    "\"\"\" 6.1 Use a for loop to print the values of the list [3, 2, 1, 0]. \"\"\""
   ]
  },
  {
   "cell_type": "code",
   "execution_count": 2,
   "id": "b31fdba6-742c-4099-958a-0faa988fe7ed",
   "metadata": {},
   "outputs": [
    {
     "name": "stdout",
     "output_type": "stream",
     "text": [
      "3\n",
      "2\n",
      "1\n",
      "0\n"
     ]
    }
   ],
   "source": [
    "for value in [3, 2, 1, 0]:\n",
    "    print(value)"
   ]
  },
  {
   "cell_type": "code",
   "execution_count": null,
   "id": "5382fc8a-4f08-4189-b1d8-fdcf31776f7e",
   "metadata": {},
   "outputs": [],
   "source": [
    "\"\"\" 6.2 Assign the value 7 to the variable guess_me, and the value 1 to the variable number. \n",
    "Write a while loop that compares number with guess_me. Print 'too low' if number is less than guess me. \n",
    "If number equals guess_me, print 'found it!' and then exit the loop. \n",
    "If number is greater than guess_me, print 'oops' and then exit the loop. Increment number at the end of the loop.\"\"\""
   ]
  },
  {
   "cell_type": "code",
   "execution_count": 3,
   "id": "b99f0a01-5e09-47d3-9f33-29ee50377c80",
   "metadata": {},
   "outputs": [
    {
     "name": "stdout",
     "output_type": "stream",
     "text": [
      "Too Low\n",
      "Too Low\n",
      "Too Low\n",
      "Too Low\n",
      "Too Low\n",
      "Too Low\n",
      "Found It\n"
     ]
    }
   ],
   "source": [
    "guess_me = 7\n",
    "number = 1\n",
    "while True:\n",
    "    if number < guess_me:\n",
    "        print (\"Too Low\")\n",
    "    elif number == guess_me:\n",
    "        print(\"Found It\")\n",
    "        break\n",
    "    else:\n",
    "        print(\"Oops\")\n",
    "        break\n",
    "    number += 1\n",
    "        \n",
    "    "
   ]
  },
  {
   "cell_type": "code",
   "execution_count": null,
   "id": "9a6e5af5-df48-49fc-a19b-41f4c0c76d52",
   "metadata": {},
   "outputs": [],
   "source": [
    "\"\"\"6.3 Assign the value 5 to the variable guess_me. Use a for loop to iterate a variable called number over range(10). \n",
    "If number is less than guess_me, print 'too low'. If it equals guess_me, print found it! and then break out of the for loop. \n",
    "If number is greater than guess_me, print 'oops' and then exit the loop.\"\"\""
   ]
  },
  {
   "cell_type": "code",
   "execution_count": 7,
   "id": "ccaae23d-e3da-442e-8652-8a09268f023d",
   "metadata": {},
   "outputs": [
    {
     "name": "stdout",
     "output_type": "stream",
     "text": [
      "0 is too low\n",
      "1 is too low\n",
      "2 is too low\n",
      "3 is too low\n",
      "4 is too low\n",
      "Found It!\n"
     ]
    }
   ],
   "source": [
    "guess_me = 5\n",
    "for number in range(10):\n",
    "    if number < guess_me:\n",
    "        print(f\"{number} is too low\")\n",
    "    elif number > guess_me:\n",
    "        print(\"Too High\")\n",
    "    else:\n",
    "        print(\"Found It!\")\n",
    "        break"
   ]
  },
  {
   "cell_type": "code",
   "execution_count": null,
   "id": "8065e98e-9d5b-4de7-8852-0159047ece15",
   "metadata": {},
   "outputs": [],
   "source": []
  }
 ],
 "metadata": {
  "kernelspec": {
   "display_name": "Python 3 (ipykernel)",
   "language": "python",
   "name": "python3"
  },
  "language_info": {
   "codemirror_mode": {
    "name": "ipython",
    "version": 3
   },
   "file_extension": ".py",
   "mimetype": "text/x-python",
   "name": "python",
   "nbconvert_exporter": "python",
   "pygments_lexer": "ipython3",
   "version": "3.11.7"
  }
 },
 "nbformat": 4,
 "nbformat_minor": 5
}
